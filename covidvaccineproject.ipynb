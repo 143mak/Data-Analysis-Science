{
 "cells": [
  {
   "cell_type": "code",
   "execution_count": 31,
   "id": "c7af2544",
   "metadata": {},
   "outputs": [],
   "source": [
    "import numpy as np \n",
    "import pandas as pd \n",
    "import seaborn as sns"
   ]
  },
  {
   "cell_type": "code",
   "execution_count": 34,
   "id": "d2b9e83f",
   "metadata": {},
   "outputs": [
    {
     "data": {
      "text/html": [
       "<div>\n",
       "<style scoped>\n",
       "    .dataframe tbody tr th:only-of-type {\n",
       "        vertical-align: middle;\n",
       "    }\n",
       "\n",
       "    .dataframe tbody tr th {\n",
       "        vertical-align: top;\n",
       "    }\n",
       "\n",
       "    .dataframe thead th {\n",
       "        text-align: right;\n",
       "    }\n",
       "</style>\n",
       "<table border=\"1\" class=\"dataframe\">\n",
       "  <thead>\n",
       "    <tr style=\"text-align: right;\">\n",
       "      <th></th>\n",
       "      <th>State/UTs</th>\n",
       "      <th>Dose 1</th>\n",
       "      <th>Dose 2</th>\n",
       "      <th>Total Vaccination Doses</th>\n",
       "    </tr>\n",
       "  </thead>\n",
       "  <tbody>\n",
       "    <tr>\n",
       "      <th>0</th>\n",
       "      <td>Andaman and Nicobar</td>\n",
       "      <td>215077</td>\n",
       "      <td>94272</td>\n",
       "      <td>309349</td>\n",
       "    </tr>\n",
       "    <tr>\n",
       "      <th>1</th>\n",
       "      <td>Andhra Pradesh</td>\n",
       "      <td>17533276</td>\n",
       "      <td>6167861</td>\n",
       "      <td>23701137</td>\n",
       "    </tr>\n",
       "    <tr>\n",
       "      <th>2</th>\n",
       "      <td>Arunachal Pradesh</td>\n",
       "      <td>689352</td>\n",
       "      <td>183631</td>\n",
       "      <td>872983</td>\n",
       "    </tr>\n",
       "    <tr>\n",
       "      <th>3</th>\n",
       "      <td>Assam</td>\n",
       "      <td>10262204</td>\n",
       "      <td>2161640</td>\n",
       "      <td>12423844</td>\n",
       "    </tr>\n",
       "    <tr>\n",
       "      <th>4</th>\n",
       "      <td>Bihar</td>\n",
       "      <td>23190928</td>\n",
       "      <td>4447714</td>\n",
       "      <td>27638642</td>\n",
       "    </tr>\n",
       "  </tbody>\n",
       "</table>\n",
       "</div>"
      ],
      "text/plain": [
       "             State/UTs    Dose 1   Dose 2  Total Vaccination Doses\n",
       "0  Andaman and Nicobar    215077    94272                   309349\n",
       "1       Andhra Pradesh  17533276  6167861                 23701137\n",
       "2    Arunachal Pradesh    689352   183631                   872983\n",
       "3                Assam  10262204  2161640                 12423844\n",
       "4                Bihar  23190928  4447714                 27638642"
      ]
     },
     "execution_count": 34,
     "metadata": {},
     "output_type": "execute_result"
    }
   ],
   "source": [
    "df=pd.read_csv('covid19vaccine.csv')\n",
    "df=df.sort_values(by=\"State/UTs\",ascending=True)\n",
    "df.head()"
   ]
  },
  {
   "cell_type": "code",
   "execution_count": 35,
   "id": "fd924abc",
   "metadata": {},
   "outputs": [
    {
     "data": {
      "text/html": [
       "<div>\n",
       "<style scoped>\n",
       "    .dataframe tbody tr th:only-of-type {\n",
       "        vertical-align: middle;\n",
       "    }\n",
       "\n",
       "    .dataframe tbody tr th {\n",
       "        vertical-align: top;\n",
       "    }\n",
       "\n",
       "    .dataframe thead th {\n",
       "        text-align: right;\n",
       "    }\n",
       "</style>\n",
       "<table border=\"1\" class=\"dataframe\">\n",
       "  <thead>\n",
       "    <tr style=\"text-align: right;\">\n",
       "      <th></th>\n",
       "      <th>State/UTs</th>\n",
       "      <th>Dose 1</th>\n",
       "      <th>Dose 2</th>\n",
       "      <th>Total Vaccination Doses</th>\n",
       "      <th>Populations</th>\n",
       "      <th>Percentage Vaccinated</th>\n",
       "    </tr>\n",
       "  </thead>\n",
       "  <tbody>\n",
       "    <tr>\n",
       "      <th>0</th>\n",
       "      <td>Andaman and Nicobar</td>\n",
       "      <td>215077</td>\n",
       "      <td>94272</td>\n",
       "      <td>309349</td>\n",
       "      <td>380581.0</td>\n",
       "      <td>24.770548</td>\n",
       "    </tr>\n",
       "    <tr>\n",
       "      <th>1</th>\n",
       "      <td>Andhra Pradesh</td>\n",
       "      <td>17533276</td>\n",
       "      <td>6167861</td>\n",
       "      <td>23701137</td>\n",
       "      <td>49576777.0</td>\n",
       "      <td>12.441029</td>\n",
       "    </tr>\n",
       "    <tr>\n",
       "      <th>2</th>\n",
       "      <td>Arunachal Pradesh</td>\n",
       "      <td>689352</td>\n",
       "      <td>183631</td>\n",
       "      <td>872983</td>\n",
       "      <td>1383727.0</td>\n",
       "      <td>13.270754</td>\n",
       "    </tr>\n",
       "    <tr>\n",
       "      <th>3</th>\n",
       "      <td>Assam</td>\n",
       "      <td>10262204</td>\n",
       "      <td>2161640</td>\n",
       "      <td>12423844</td>\n",
       "      <td>31205576.0</td>\n",
       "      <td>6.927095</td>\n",
       "    </tr>\n",
       "    <tr>\n",
       "      <th>4</th>\n",
       "      <td>Bihar</td>\n",
       "      <td>23190928</td>\n",
       "      <td>4447714</td>\n",
       "      <td>27638642</td>\n",
       "      <td>104099452.0</td>\n",
       "      <td>4.272562</td>\n",
       "    </tr>\n",
       "  </tbody>\n",
       "</table>\n",
       "</div>"
      ],
      "text/plain": [
       "             State/UTs    Dose 1   Dose 2  Total Vaccination Doses  \\\n",
       "0  Andaman and Nicobar    215077    94272                   309349   \n",
       "1       Andhra Pradesh  17533276  6167861                 23701137   \n",
       "2    Arunachal Pradesh    689352   183631                   872983   \n",
       "3                Assam  10262204  2161640                 12423844   \n",
       "4                Bihar  23190928  4447714                 27638642   \n",
       "\n",
       "   Populations  Percentage Vaccinated  \n",
       "0     380581.0              24.770548  \n",
       "1   49576777.0              12.441029  \n",
       "2    1383727.0              13.270754  \n",
       "3   31205576.0               6.927095  \n",
       "4  104099452.0               4.272562  "
      ]
     },
     "execution_count": 35,
     "metadata": {},
     "output_type": "execute_result"
    }
   ],
   "source": [
    "df[\"Populations\"]=[380581,49576777,1383727,31205576,104099452,1055450,25545198,586956,16787941,1458545,60439692,25351462,6864602,12258433,32988134,61095297,33406061,274289,64473,72626809,112374333,2855794,2966889,1097206,1978502,41974218,1247953,27743338,68548437,610577,72147030,35004000,3673917,199812341,10086292,91276115,np.nan]\n",
    "df[\"Percentage Vaccinated\"]=(df[\"Dose 2\"]*100)/df[\"Populations\"]\n",
    "df.head()"
   ]
  },
  {
   "cell_type": "code",
   "execution_count": 71,
   "id": "3930c2bd",
   "metadata": {},
   "outputs": [
    {
     "data": {
      "text/html": [
       "<div>\n",
       "<style scoped>\n",
       "    .dataframe tbody tr th:only-of-type {\n",
       "        vertical-align: middle;\n",
       "    }\n",
       "\n",
       "    .dataframe tbody tr th {\n",
       "        vertical-align: top;\n",
       "    }\n",
       "\n",
       "    .dataframe thead th {\n",
       "        text-align: right;\n",
       "    }\n",
       "</style>\n",
       "<table border=\"1\" class=\"dataframe\">\n",
       "  <thead>\n",
       "    <tr style=\"text-align: right;\">\n",
       "      <th></th>\n",
       "      <th>State/UTs</th>\n",
       "      <th>Dose 1</th>\n",
       "      <th>Dose 2</th>\n",
       "      <th>Total Vaccination Doses</th>\n",
       "      <th>Populations</th>\n",
       "      <th>Percentage Vaccinated</th>\n",
       "    </tr>\n",
       "  </thead>\n",
       "  <tbody>\n",
       "    <tr>\n",
       "      <th>0</th>\n",
       "      <td>Andaman and Nicobar</td>\n",
       "      <td>215077</td>\n",
       "      <td>94272</td>\n",
       "      <td>309349</td>\n",
       "      <td>380581.0</td>\n",
       "      <td>24.770548</td>\n",
       "    </tr>\n",
       "    <tr>\n",
       "      <th>1</th>\n",
       "      <td>Andhra Pradesh</td>\n",
       "      <td>17533276</td>\n",
       "      <td>6167861</td>\n",
       "      <td>23701137</td>\n",
       "      <td>49576777.0</td>\n",
       "      <td>12.441029</td>\n",
       "    </tr>\n",
       "    <tr>\n",
       "      <th>2</th>\n",
       "      <td>Arunachal Pradesh</td>\n",
       "      <td>689352</td>\n",
       "      <td>183631</td>\n",
       "      <td>872983</td>\n",
       "      <td>1383727.0</td>\n",
       "      <td>13.270754</td>\n",
       "    </tr>\n",
       "    <tr>\n",
       "      <th>3</th>\n",
       "      <td>Assam</td>\n",
       "      <td>10262204</td>\n",
       "      <td>2161640</td>\n",
       "      <td>12423844</td>\n",
       "      <td>31205576.0</td>\n",
       "      <td>6.927095</td>\n",
       "    </tr>\n",
       "    <tr>\n",
       "      <th>4</th>\n",
       "      <td>Bihar</td>\n",
       "      <td>23190928</td>\n",
       "      <td>4447714</td>\n",
       "      <td>27638642</td>\n",
       "      <td>104099452.0</td>\n",
       "      <td>4.272562</td>\n",
       "    </tr>\n",
       "    <tr>\n",
       "      <th>5</th>\n",
       "      <td>Chandigarh</td>\n",
       "      <td>690815</td>\n",
       "      <td>220658</td>\n",
       "      <td>911473</td>\n",
       "      <td>1055450.0</td>\n",
       "      <td>20.906533</td>\n",
       "    </tr>\n",
       "    <tr>\n",
       "      <th>6</th>\n",
       "      <td>Chhattisgarh</td>\n",
       "      <td>9960587</td>\n",
       "      <td>2597535</td>\n",
       "      <td>12558122</td>\n",
       "      <td>25545198.0</td>\n",
       "      <td>10.168389</td>\n",
       "    </tr>\n",
       "    <tr>\n",
       "      <th>7</th>\n",
       "      <td>Dadra and Nagar Haveli and Daman and Diu</td>\n",
       "      <td>581393</td>\n",
       "      <td>79477</td>\n",
       "      <td>660870</td>\n",
       "      <td>586956.0</td>\n",
       "      <td>13.540538</td>\n",
       "    </tr>\n",
       "    <tr>\n",
       "      <th>8</th>\n",
       "      <td>Delhi</td>\n",
       "      <td>7750023</td>\n",
       "      <td>2940832</td>\n",
       "      <td>10690855</td>\n",
       "      <td>16787941.0</td>\n",
       "      <td>17.517526</td>\n",
       "    </tr>\n",
       "    <tr>\n",
       "      <th>9</th>\n",
       "      <td>Goa</td>\n",
       "      <td>1089647</td>\n",
       "      <td>298023</td>\n",
       "      <td>1387670</td>\n",
       "      <td>1458545.0</td>\n",
       "      <td>20.432897</td>\n",
       "    </tr>\n",
       "  </tbody>\n",
       "</table>\n",
       "</div>"
      ],
      "text/plain": [
       "                                  State/UTs    Dose 1   Dose 2  \\\n",
       "0                       Andaman and Nicobar    215077    94272   \n",
       "1                            Andhra Pradesh  17533276  6167861   \n",
       "2                         Arunachal Pradesh    689352   183631   \n",
       "3                                     Assam  10262204  2161640   \n",
       "4                                     Bihar  23190928  4447714   \n",
       "5                                Chandigarh    690815   220658   \n",
       "6                              Chhattisgarh   9960587  2597535   \n",
       "7  Dadra and Nagar Haveli and Daman and Diu    581393    79477   \n",
       "8                                     Delhi   7750023  2940832   \n",
       "9                                       Goa   1089647   298023   \n",
       "\n",
       "   Total Vaccination Doses  Populations  Percentage Vaccinated  \n",
       "0                   309349     380581.0              24.770548  \n",
       "1                 23701137   49576777.0              12.441029  \n",
       "2                   872983    1383727.0              13.270754  \n",
       "3                 12423844   31205576.0               6.927095  \n",
       "4                 27638642  104099452.0               4.272562  \n",
       "5                   911473    1055450.0              20.906533  \n",
       "6                 12558122   25545198.0              10.168389  \n",
       "7                   660870     586956.0              13.540538  \n",
       "8                 10690855   16787941.0              17.517526  \n",
       "9                  1387670    1458545.0              20.432897  "
      ]
     },
     "execution_count": 71,
     "metadata": {},
     "output_type": "execute_result"
    }
   ],
   "source": [
    "df.head(10)"
   ]
  },
  {
   "cell_type": "code",
   "execution_count": 72,
   "id": "61b4f0e4",
   "metadata": {},
   "outputs": [
    {
     "data": {
      "text/html": [
       "<div>\n",
       "<style scoped>\n",
       "    .dataframe tbody tr th:only-of-type {\n",
       "        vertical-align: middle;\n",
       "    }\n",
       "\n",
       "    .dataframe tbody tr th {\n",
       "        vertical-align: top;\n",
       "    }\n",
       "\n",
       "    .dataframe thead th {\n",
       "        text-align: right;\n",
       "    }\n",
       "</style>\n",
       "<table border=\"1\" class=\"dataframe\">\n",
       "  <thead>\n",
       "    <tr style=\"text-align: right;\">\n",
       "      <th></th>\n",
       "      <th>Dose 1</th>\n",
       "      <th>Dose 2</th>\n",
       "      <th>Total Vaccination Doses</th>\n",
       "      <th>Populations</th>\n",
       "      <th>Percentage Vaccinated</th>\n",
       "    </tr>\n",
       "  </thead>\n",
       "  <tbody>\n",
       "    <tr>\n",
       "      <th>count</th>\n",
       "      <td>3.700000e+01</td>\n",
       "      <td>3.700000e+01</td>\n",
       "      <td>3.700000e+01</td>\n",
       "      <td>3.600000e+01</td>\n",
       "      <td>36.000000</td>\n",
       "    </tr>\n",
       "    <tr>\n",
       "      <th>mean</th>\n",
       "      <td>1.069372e+07</td>\n",
       "      <td>3.053977e+06</td>\n",
       "      <td>1.374770e+07</td>\n",
       "      <td>3.363462e+07</td>\n",
       "      <td>66.002418</td>\n",
       "    </tr>\n",
       "    <tr>\n",
       "      <th>std</th>\n",
       "      <td>1.174494e+07</td>\n",
       "      <td>3.272056e+06</td>\n",
       "      <td>1.484202e+07</td>\n",
       "      <td>4.305181e+07</td>\n",
       "      <td>229.258708</td>\n",
       "    </tr>\n",
       "    <tr>\n",
       "      <th>min</th>\n",
       "      <td>5.096200e+04</td>\n",
       "      <td>1.695100e+04</td>\n",
       "      <td>6.791300e+04</td>\n",
       "      <td>6.447300e+04</td>\n",
       "      <td>0.208939</td>\n",
       "    </tr>\n",
       "    <tr>\n",
       "      <th>25%</th>\n",
       "      <td>6.908150e+05</td>\n",
       "      <td>2.206580e+05</td>\n",
       "      <td>9.114730e+05</td>\n",
       "      <td>1.439840e+06</td>\n",
       "      <td>7.461538</td>\n",
       "    </tr>\n",
       "    <tr>\n",
       "      <th>50%</th>\n",
       "      <td>7.750023e+06</td>\n",
       "      <td>1.977828e+06</td>\n",
       "      <td>1.029515e+07</td>\n",
       "      <td>2.106970e+07</td>\n",
       "      <td>12.223994</td>\n",
       "    </tr>\n",
       "    <tr>\n",
       "      <th>75%</th>\n",
       "      <td>1.753328e+07</td>\n",
       "      <td>4.642265e+06</td>\n",
       "      <td>2.370114e+07</td>\n",
       "      <td>5.229251e+07</td>\n",
       "      <td>20.551306</td>\n",
       "    </tr>\n",
       "    <tr>\n",
       "      <th>max</th>\n",
       "      <td>4.521178e+07</td>\n",
       "      <td>1.196889e+07</td>\n",
       "      <td>5.360869e+07</td>\n",
       "      <td>1.998123e+08</td>\n",
       "      <td>1357.084364</td>\n",
       "    </tr>\n",
       "  </tbody>\n",
       "</table>\n",
       "</div>"
      ],
      "text/plain": [
       "             Dose 1        Dose 2  Total Vaccination Doses   Populations  \\\n",
       "count  3.700000e+01  3.700000e+01             3.700000e+01  3.600000e+01   \n",
       "mean   1.069372e+07  3.053977e+06             1.374770e+07  3.363462e+07   \n",
       "std    1.174494e+07  3.272056e+06             1.484202e+07  4.305181e+07   \n",
       "min    5.096200e+04  1.695100e+04             6.791300e+04  6.447300e+04   \n",
       "25%    6.908150e+05  2.206580e+05             9.114730e+05  1.439840e+06   \n",
       "50%    7.750023e+06  1.977828e+06             1.029515e+07  2.106970e+07   \n",
       "75%    1.753328e+07  4.642265e+06             2.370114e+07  5.229251e+07   \n",
       "max    4.521178e+07  1.196889e+07             5.360869e+07  1.998123e+08   \n",
       "\n",
       "       Percentage Vaccinated  \n",
       "count              36.000000  \n",
       "mean               66.002418  \n",
       "std               229.258708  \n",
       "min                 0.208939  \n",
       "25%                 7.461538  \n",
       "50%                12.223994  \n",
       "75%                20.551306  \n",
       "max              1357.084364  "
      ]
     },
     "execution_count": 72,
     "metadata": {},
     "output_type": "execute_result"
    }
   ],
   "source": [
    "df.describe()"
   ]
  },
  {
   "cell_type": "code",
   "execution_count": 38,
   "id": "a39ba97a",
   "metadata": {},
   "outputs": [
    {
     "name": "stdout",
     "output_type": "stream",
     "text": [
      "<class 'pandas.core.frame.DataFrame'>\n",
      "Int64Index: 37 entries, 0 to 35\n",
      "Data columns (total 6 columns):\n",
      " #   Column                   Non-Null Count  Dtype  \n",
      "---  ------                   --------------  -----  \n",
      " 0   State/UTs                37 non-null     object \n",
      " 1   Dose 1                   37 non-null     int64  \n",
      " 2   Dose 2                   37 non-null     int64  \n",
      " 3   Total Vaccination Doses  37 non-null     int64  \n",
      " 4   Populations              36 non-null     float64\n",
      " 5   Percentage Vaccinated    36 non-null     float64\n",
      "dtypes: float64(2), int64(3), object(1)\n",
      "memory usage: 2.0+ KB\n"
     ]
    }
   ],
   "source": [
    "df.info()"
   ]
  },
  {
   "cell_type": "code",
   "execution_count": 40,
   "id": "52e07eb3",
   "metadata": {},
   "outputs": [],
   "source": [
    "df1=df.sort_values(by=\"Total Vaccination Doses\",ascending=False)\n",
    "df2=df.sort_values(by=\"Dose 2\",ascending=False)\n",
    "df3=df.sort_values(by=\"Total Vaccination Doses\",ascending=False)\n",
    "df4=df.sort_values(by=\"Dose 2\",ascending=False,)\n",
    "df5=df.sort_values(by=\"Percentage Vaccinated\",ascending=False)\n",
    "df6=df.sort_values(by=\"Percentage Vaccinated\",ascending=False)"
   ]
  },
  {
   "cell_type": "code",
   "execution_count": 79,
   "id": "69912227",
   "metadata": {},
   "outputs": [
    {
     "data": {
      "text/html": [
       "<div>\n",
       "<style scoped>\n",
       "    .dataframe tbody tr th:only-of-type {\n",
       "        vertical-align: middle;\n",
       "    }\n",
       "\n",
       "    .dataframe tbody tr th {\n",
       "        vertical-align: top;\n",
       "    }\n",
       "\n",
       "    .dataframe thead th {\n",
       "        text-align: right;\n",
       "    }\n",
       "</style>\n",
       "<table border=\"1\" class=\"dataframe\">\n",
       "  <thead>\n",
       "    <tr style=\"text-align: right;\">\n",
       "      <th></th>\n",
       "      <th>State/UTs</th>\n",
       "      <th>Dose 1</th>\n",
       "      <th>Dose 2</th>\n",
       "      <th>Total Vaccination Doses</th>\n",
       "      <th>Populations</th>\n",
       "      <th>Percentage Vaccinated</th>\n",
       "    </tr>\n",
       "  </thead>\n",
       "  <tbody>\n",
       "    <tr>\n",
       "      <th>33</th>\n",
       "      <td>Uttar Pradesh</td>\n",
       "      <td>45211784</td>\n",
       "      <td>8396910</td>\n",
       "      <td>53608694</td>\n",
       "      <td>10086292.0</td>\n",
       "      <td>83.250713</td>\n",
       "    </tr>\n",
       "    <tr>\n",
       "      <th>20</th>\n",
       "      <td>Maharashtra</td>\n",
       "      <td>34789942</td>\n",
       "      <td>11968889</td>\n",
       "      <td>46758831</td>\n",
       "      <td>112374333.0</td>\n",
       "      <td>10.650910</td>\n",
       "    </tr>\n",
       "    <tr>\n",
       "      <th>10</th>\n",
       "      <td>Gujarat</td>\n",
       "      <td>27638343</td>\n",
       "      <td>8961874</td>\n",
       "      <td>36600217</td>\n",
       "      <td>60439692.0</td>\n",
       "      <td>14.827796</td>\n",
       "    </tr>\n",
       "    <tr>\n",
       "      <th>28</th>\n",
       "      <td>Rajasthan</td>\n",
       "      <td>26798140</td>\n",
       "      <td>8286045</td>\n",
       "      <td>35084185</td>\n",
       "      <td>610577.0</td>\n",
       "      <td>1357.084364</td>\n",
       "    </tr>\n",
       "    <tr>\n",
       "      <th>19</th>\n",
       "      <td>Madhya Pradesh</td>\n",
       "      <td>29251677</td>\n",
       "      <td>5649657</td>\n",
       "      <td>34901334</td>\n",
       "      <td>72626809.0</td>\n",
       "      <td>7.779024</td>\n",
       "    </tr>\n",
       "    <tr>\n",
       "      <th>15</th>\n",
       "      <td>Karnataka</td>\n",
       "      <td>25591995</td>\n",
       "      <td>7335688</td>\n",
       "      <td>32927683</td>\n",
       "      <td>61095297.0</td>\n",
       "      <td>12.006960</td>\n",
       "    </tr>\n",
       "    <tr>\n",
       "      <th>35</th>\n",
       "      <td>West Bengal</td>\n",
       "      <td>23018390</td>\n",
       "      <td>9081172</td>\n",
       "      <td>32099562</td>\n",
       "      <td>NaN</td>\n",
       "      <td>NaN</td>\n",
       "    </tr>\n",
       "  </tbody>\n",
       "</table>\n",
       "</div>"
      ],
      "text/plain": [
       "         State/UTs    Dose 1    Dose 2  Total Vaccination Doses  Populations  \\\n",
       "33   Uttar Pradesh  45211784   8396910                 53608694   10086292.0   \n",
       "20     Maharashtra  34789942  11968889                 46758831  112374333.0   \n",
       "10         Gujarat  27638343   8961874                 36600217   60439692.0   \n",
       "28       Rajasthan  26798140   8286045                 35084185     610577.0   \n",
       "19  Madhya Pradesh  29251677   5649657                 34901334   72626809.0   \n",
       "15       Karnataka  25591995   7335688                 32927683   61095297.0   \n",
       "35     West Bengal  23018390   9081172                 32099562          NaN   \n",
       "\n",
       "    Percentage Vaccinated  \n",
       "33              83.250713  \n",
       "20              10.650910  \n",
       "10              14.827796  \n",
       "28            1357.084364  \n",
       "19               7.779024  \n",
       "15              12.006960  \n",
       "35                    NaN  "
      ]
     },
     "execution_count": 79,
     "metadata": {},
     "output_type": "execute_result"
    }
   ],
   "source": [
    "dfsort1=df1.iloc[0:8]\n",
    "df1.head(7)"
   ]
  },
  {
   "cell_type": "code",
   "execution_count": 76,
   "id": "6d52328c",
   "metadata": {},
   "outputs": [
    {
     "data": {
      "text/html": [
       "<div>\n",
       "<style scoped>\n",
       "    .dataframe tbody tr th:only-of-type {\n",
       "        vertical-align: middle;\n",
       "    }\n",
       "\n",
       "    .dataframe tbody tr th {\n",
       "        vertical-align: top;\n",
       "    }\n",
       "\n",
       "    .dataframe thead th {\n",
       "        text-align: right;\n",
       "    }\n",
       "</style>\n",
       "<table border=\"1\" class=\"dataframe\">\n",
       "  <thead>\n",
       "    <tr style=\"text-align: right;\">\n",
       "      <th></th>\n",
       "      <th>State/UTs</th>\n",
       "      <th>Dose 1</th>\n",
       "      <th>Dose 2</th>\n",
       "      <th>Total Vaccination Doses</th>\n",
       "      <th>Populations</th>\n",
       "      <th>Percentage Vaccinated</th>\n",
       "    </tr>\n",
       "  </thead>\n",
       "  <tbody>\n",
       "    <tr>\n",
       "      <th>20</th>\n",
       "      <td>Maharashtra</td>\n",
       "      <td>34789942</td>\n",
       "      <td>11968889</td>\n",
       "      <td>46758831</td>\n",
       "      <td>112374333.0</td>\n",
       "      <td>10.650910</td>\n",
       "    </tr>\n",
       "    <tr>\n",
       "      <th>35</th>\n",
       "      <td>West Bengal</td>\n",
       "      <td>23018390</td>\n",
       "      <td>9081172</td>\n",
       "      <td>32099562</td>\n",
       "      <td>NaN</td>\n",
       "      <td>NaN</td>\n",
       "    </tr>\n",
       "    <tr>\n",
       "      <th>10</th>\n",
       "      <td>Gujarat</td>\n",
       "      <td>27638343</td>\n",
       "      <td>8961874</td>\n",
       "      <td>36600217</td>\n",
       "      <td>60439692.0</td>\n",
       "      <td>14.827796</td>\n",
       "    </tr>\n",
       "    <tr>\n",
       "      <th>33</th>\n",
       "      <td>Uttar Pradesh</td>\n",
       "      <td>45211784</td>\n",
       "      <td>8396910</td>\n",
       "      <td>53608694</td>\n",
       "      <td>10086292.0</td>\n",
       "      <td>83.250713</td>\n",
       "    </tr>\n",
       "    <tr>\n",
       "      <th>28</th>\n",
       "      <td>Rajasthan</td>\n",
       "      <td>26798140</td>\n",
       "      <td>8286045</td>\n",
       "      <td>35084185</td>\n",
       "      <td>610577.0</td>\n",
       "      <td>1357.084364</td>\n",
       "    </tr>\n",
       "    <tr>\n",
       "      <th>15</th>\n",
       "      <td>Karnataka</td>\n",
       "      <td>25591995</td>\n",
       "      <td>7335688</td>\n",
       "      <td>32927683</td>\n",
       "      <td>61095297.0</td>\n",
       "      <td>12.006960</td>\n",
       "    </tr>\n",
       "    <tr>\n",
       "      <th>16</th>\n",
       "      <td>Kerala</td>\n",
       "      <td>15472773</td>\n",
       "      <td>6370804</td>\n",
       "      <td>21843577</td>\n",
       "      <td>33406061.0</td>\n",
       "      <td>19.070803</td>\n",
       "    </tr>\n",
       "  </tbody>\n",
       "</table>\n",
       "</div>"
      ],
      "text/plain": [
       "        State/UTs    Dose 1    Dose 2  Total Vaccination Doses  Populations  \\\n",
       "20    Maharashtra  34789942  11968889                 46758831  112374333.0   \n",
       "35    West Bengal  23018390   9081172                 32099562          NaN   \n",
       "10        Gujarat  27638343   8961874                 36600217   60439692.0   \n",
       "33  Uttar Pradesh  45211784   8396910                 53608694   10086292.0   \n",
       "28      Rajasthan  26798140   8286045                 35084185     610577.0   \n",
       "15      Karnataka  25591995   7335688                 32927683   61095297.0   \n",
       "16         Kerala  15472773   6370804                 21843577   33406061.0   \n",
       "\n",
       "    Percentage Vaccinated  \n",
       "20              10.650910  \n",
       "35                    NaN  \n",
       "10              14.827796  \n",
       "33              83.250713  \n",
       "28            1357.084364  \n",
       "15              12.006960  \n",
       "16              19.070803  "
      ]
     },
     "execution_count": 76,
     "metadata": {},
     "output_type": "execute_result"
    }
   ],
   "source": [
    "dfsort2=df2.iloc[0:8]\n",
    "df2.head(7)"
   ]
  },
  {
   "cell_type": "code",
   "execution_count": 75,
   "id": "cd885798",
   "metadata": {},
   "outputs": [
    {
     "data": {
      "text/html": [
       "<div>\n",
       "<style scoped>\n",
       "    .dataframe tbody tr th:only-of-type {\n",
       "        vertical-align: middle;\n",
       "    }\n",
       "\n",
       "    .dataframe tbody tr th {\n",
       "        vertical-align: top;\n",
       "    }\n",
       "\n",
       "    .dataframe thead th {\n",
       "        text-align: right;\n",
       "    }\n",
       "</style>\n",
       "<table border=\"1\" class=\"dataframe\">\n",
       "  <thead>\n",
       "    <tr style=\"text-align: right;\">\n",
       "      <th></th>\n",
       "      <th>State/UTs</th>\n",
       "      <th>Dose 1</th>\n",
       "      <th>Dose 2</th>\n",
       "      <th>Total Vaccination Doses</th>\n",
       "      <th>Populations</th>\n",
       "      <th>Percentage Vaccinated</th>\n",
       "    </tr>\n",
       "  </thead>\n",
       "  <tbody>\n",
       "    <tr>\n",
       "      <th>33</th>\n",
       "      <td>Uttar Pradesh</td>\n",
       "      <td>45211784</td>\n",
       "      <td>8396910</td>\n",
       "      <td>53608694</td>\n",
       "      <td>10086292.0</td>\n",
       "      <td>83.250713</td>\n",
       "    </tr>\n",
       "    <tr>\n",
       "      <th>20</th>\n",
       "      <td>Maharashtra</td>\n",
       "      <td>34789942</td>\n",
       "      <td>11968889</td>\n",
       "      <td>46758831</td>\n",
       "      <td>112374333.0</td>\n",
       "      <td>10.650910</td>\n",
       "    </tr>\n",
       "    <tr>\n",
       "      <th>10</th>\n",
       "      <td>Gujarat</td>\n",
       "      <td>27638343</td>\n",
       "      <td>8961874</td>\n",
       "      <td>36600217</td>\n",
       "      <td>60439692.0</td>\n",
       "      <td>14.827796</td>\n",
       "    </tr>\n",
       "    <tr>\n",
       "      <th>28</th>\n",
       "      <td>Rajasthan</td>\n",
       "      <td>26798140</td>\n",
       "      <td>8286045</td>\n",
       "      <td>35084185</td>\n",
       "      <td>610577.0</td>\n",
       "      <td>1357.084364</td>\n",
       "    </tr>\n",
       "    <tr>\n",
       "      <th>19</th>\n",
       "      <td>Madhya Pradesh</td>\n",
       "      <td>29251677</td>\n",
       "      <td>5649657</td>\n",
       "      <td>34901334</td>\n",
       "      <td>72626809.0</td>\n",
       "      <td>7.779024</td>\n",
       "    </tr>\n",
       "    <tr>\n",
       "      <th>15</th>\n",
       "      <td>Karnataka</td>\n",
       "      <td>25591995</td>\n",
       "      <td>7335688</td>\n",
       "      <td>32927683</td>\n",
       "      <td>61095297.0</td>\n",
       "      <td>12.006960</td>\n",
       "    </tr>\n",
       "    <tr>\n",
       "      <th>35</th>\n",
       "      <td>West Bengal</td>\n",
       "      <td>23018390</td>\n",
       "      <td>9081172</td>\n",
       "      <td>32099562</td>\n",
       "      <td>NaN</td>\n",
       "      <td>NaN</td>\n",
       "    </tr>\n",
       "  </tbody>\n",
       "</table>\n",
       "</div>"
      ],
      "text/plain": [
       "         State/UTs    Dose 1    Dose 2  Total Vaccination Doses  Populations  \\\n",
       "33   Uttar Pradesh  45211784   8396910                 53608694   10086292.0   \n",
       "20     Maharashtra  34789942  11968889                 46758831  112374333.0   \n",
       "10         Gujarat  27638343   8961874                 36600217   60439692.0   \n",
       "28       Rajasthan  26798140   8286045                 35084185     610577.0   \n",
       "19  Madhya Pradesh  29251677   5649657                 34901334   72626809.0   \n",
       "15       Karnataka  25591995   7335688                 32927683   61095297.0   \n",
       "35     West Bengal  23018390   9081172                 32099562          NaN   \n",
       "\n",
       "    Percentage Vaccinated  \n",
       "33              83.250713  \n",
       "20              10.650910  \n",
       "10              14.827796  \n",
       "28            1357.084364  \n",
       "19               7.779024  \n",
       "15              12.006960  \n",
       "35                    NaN  "
      ]
     },
     "execution_count": 75,
     "metadata": {},
     "output_type": "execute_result"
    }
   ],
   "source": [
    "dfsort3=df3.iloc[0:8]\n",
    "df3.head(7)"
   ]
  },
  {
   "cell_type": "code",
   "execution_count": 44,
   "id": "bdea0251",
   "metadata": {},
   "outputs": [
    {
     "data": {
      "text/plain": [
       "<seaborn.axisgrid.FacetGrid at 0x1e5e7df93a0>"
      ]
     },
     "execution_count": 44,
     "metadata": {},
     "output_type": "execute_result"
    },
    {
     "data": {
      "image/png": "[encoded data removed]",
      "text/plain": [
       "<Figure size 720x360 with 1 Axes>"
      ]
     },
     "metadata": {
      "needs_background": "light"
     },
     "output_type": "display_data"
    }
   ],
   "source": [
    "sns.catplot(x=\"State/UTs\", y=\"Total Vaccination Doses\", kind=\"boxen\",\n",
    "            data=dfsort1,aspect=2)"
   ]
  },
  {
   "cell_type": "code",
   "execution_count": 45,
   "id": "1bb6b0cd",
   "metadata": {},
   "outputs": [
    {
     "data": {
      "text/plain": [
       "<seaborn.axisgrid.FacetGrid at 0x1e5e7e29c70>"
      ]
     },
     "execution_count": 45,
     "metadata": {},
     "output_type": "execute_result"
    },
    {
     "data": {
      "image/png": "[encoded data removed]",
      "text/plain": [
       "<Figure size 720x360 with 1 Axes>"
      ]
     },
     "metadata": {
      "needs_background": "light"
     },
     "output_type": "display_data"
    }
   ],
   "source": [
    "sns.catplot(x=\"State/UTs\", y=\"Total Vaccination Doses\", kind=\"bar\",\n",
    "            data=dfsort1,aspect=2)"
   ]
  },
  {
   "cell_type": "code",
   "execution_count": 46,
   "id": "9b86a17f",
   "metadata": {},
   "outputs": [
    {
     "data": {
      "text/plain": [
       "<seaborn.axisgrid.FacetGrid at 0x1e5ea0d9ca0>"
      ]
     },
     "execution_count": 46,
     "metadata": {},
     "output_type": "execute_result"
    },
    {
     "data": {
      "image/png": "[encoded data removed]",
      "text/plain": [
       "<Figure size 720x360 with 1 Axes>"
      ]
     },
     "metadata": {
      "needs_background": "light"
     },
     "output_type": "display_data"
    }
   ],
   "source": [
    "ns.catplot(x=\"State/UTs\", y=\"Total Vaccination Doses\", kind=\"point\",\n",
    "            data=dfsort1,aspect=2,color=\"red\")s"
   ]
  },
  {
   "cell_type": "code",
   "execution_count": 77,
   "id": "8485bf1b",
   "metadata": {},
   "outputs": [
    {
     "data": {
      "text/html": [
       "<div>\n",
       "<style scoped>\n",
       "    .dataframe tbody tr th:only-of-type {\n",
       "        vertical-align: middle;\n",
       "    }\n",
       "\n",
       "    .dataframe tbody tr th {\n",
       "        vertical-align: top;\n",
       "    }\n",
       "\n",
       "    .dataframe thead th {\n",
       "        text-align: right;\n",
       "    }\n",
       "</style>\n",
       "<table border=\"1\" class=\"dataframe\">\n",
       "  <thead>\n",
       "    <tr style=\"text-align: right;\">\n",
       "      <th></th>\n",
       "      <th>State/UTs</th>\n",
       "      <th>Dose 1</th>\n",
       "      <th>Dose 2</th>\n",
       "      <th>Total Vaccination Doses</th>\n",
       "      <th>Populations</th>\n",
       "      <th>Percentage Vaccinated</th>\n",
       "    </tr>\n",
       "  </thead>\n",
       "  <tbody>\n",
       "    <tr>\n",
       "      <th>20</th>\n",
       "      <td>Maharashtra</td>\n",
       "      <td>34789942</td>\n",
       "      <td>11968889</td>\n",
       "      <td>46758831</td>\n",
       "      <td>112374333.0</td>\n",
       "      <td>10.650910</td>\n",
       "    </tr>\n",
       "    <tr>\n",
       "      <th>35</th>\n",
       "      <td>West Bengal</td>\n",
       "      <td>23018390</td>\n",
       "      <td>9081172</td>\n",
       "      <td>32099562</td>\n",
       "      <td>NaN</td>\n",
       "      <td>NaN</td>\n",
       "    </tr>\n",
       "    <tr>\n",
       "      <th>10</th>\n",
       "      <td>Gujarat</td>\n",
       "      <td>27638343</td>\n",
       "      <td>8961874</td>\n",
       "      <td>36600217</td>\n",
       "      <td>60439692.0</td>\n",
       "      <td>14.827796</td>\n",
       "    </tr>\n",
       "    <tr>\n",
       "      <th>33</th>\n",
       "      <td>Uttar Pradesh</td>\n",
       "      <td>45211784</td>\n",
       "      <td>8396910</td>\n",
       "      <td>53608694</td>\n",
       "      <td>10086292.0</td>\n",
       "      <td>83.250713</td>\n",
       "    </tr>\n",
       "    <tr>\n",
       "      <th>28</th>\n",
       "      <td>Rajasthan</td>\n",
       "      <td>26798140</td>\n",
       "      <td>8286045</td>\n",
       "      <td>35084185</td>\n",
       "      <td>610577.0</td>\n",
       "      <td>1357.084364</td>\n",
       "    </tr>\n",
       "    <tr>\n",
       "      <th>15</th>\n",
       "      <td>Karnataka</td>\n",
       "      <td>25591995</td>\n",
       "      <td>7335688</td>\n",
       "      <td>32927683</td>\n",
       "      <td>61095297.0</td>\n",
       "      <td>12.006960</td>\n",
       "    </tr>\n",
       "    <tr>\n",
       "      <th>16</th>\n",
       "      <td>Kerala</td>\n",
       "      <td>15472773</td>\n",
       "      <td>6370804</td>\n",
       "      <td>21843577</td>\n",
       "      <td>33406061.0</td>\n",
       "      <td>19.070803</td>\n",
       "    </tr>\n",
       "  </tbody>\n",
       "</table>\n",
       "</div>"
      ],
      "text/plain": [
       "        State/UTs    Dose 1    Dose 2  Total Vaccination Doses  Populations  \\\n",
       "20    Maharashtra  34789942  11968889                 46758831  112374333.0   \n",
       "35    West Bengal  23018390   9081172                 32099562          NaN   \n",
       "10        Gujarat  27638343   8961874                 36600217   60439692.0   \n",
       "33  Uttar Pradesh  45211784   8396910                 53608694   10086292.0   \n",
       "28      Rajasthan  26798140   8286045                 35084185     610577.0   \n",
       "15      Karnataka  25591995   7335688                 32927683   61095297.0   \n",
       "16         Kerala  15472773   6370804                 21843577   33406061.0   \n",
       "\n",
       "    Percentage Vaccinated  \n",
       "20              10.650910  \n",
       "35                    NaN  \n",
       "10              14.827796  \n",
       "33              83.250713  \n",
       "28            1357.084364  \n",
       "15              12.006960  \n",
       "16              19.070803  "
      ]
     },
     "execution_count": 77,
     "metadata": {},
     "output_type": "execute_result"
    }
   ],
   "source": [
    "dfsort2=df2.iloc[0:8]\n",
    "df2.head(7)"
   ]
  },
  {
   "cell_type": "code",
   "execution_count": 48,
   "id": "f069fcb9",
   "metadata": {},
   "outputs": [
    {
     "data": {
      "text/plain": [
       "<seaborn.axisgrid.FacetGrid at 0x1e5e9f2ce20>"
      ]
     },
     "execution_count": 48,
     "metadata": {},
     "output_type": "execute_result"
    },
    {
     "data": {
      "image/png": "[encoded data removed]",
      "text/plain": [
       "<Figure size 720x360 with 1 Axes>"
      ]
     },
     "metadata": {
      "needs_background": "light"
     },
     "output_type": "display_data"
    }
   ],
   "source": [
    "sns.catplot(x=\"State/UTs\", y=\"Dose 2\", kind=\"boxen\",\n",
    "            data=dfsort2,aspect=2)"
   ]
  },
  {
   "cell_type": "code",
   "execution_count": 49,
   "id": "bb836ca3",
   "metadata": {},
   "outputs": [
    {
     "data": {
      "text/plain": [
       "<seaborn.axisgrid.FacetGrid at 0x1e5e7e2e940>"
      ]
     },
     "execution_count": 49,
     "metadata": {},
     "output_type": "execute_result"
    },
    {
     "data": {
      "image/png": "[encoded data removed]",
      "text/plain": [
       "<Figure size 720x360 with 1 Axes>"
      ]
     },
     "metadata": {
      "needs_background": "light"
     },
     "output_type": "display_data"
    }
   ],
   "source": [
    "sns.catplot(x=\"State/UTs\", y=\"Dose 2\", kind=\"bar\",\n",
    "            data=dfsort2,aspect=2)"
   ]
  },
  {
   "cell_type": "code",
   "execution_count": 50,
   "id": "e5175bbe",
   "metadata": {},
   "outputs": [
    {
     "data": {
      "text/plain": [
       "<seaborn.axisgrid.FacetGrid at 0x1e5ea66ab20>"
      ]
     },
     "execution_count": 50,
     "metadata": {},
     "output_type": "execute_result"
    },
    {
     "data": {
      "image/png": "[encoded data removed]",
      "text/plain": [
       "<Figure size 1440x360 with 1 Axes>"
      ]
     },
     "metadata": {
      "needs_background": "light"
     },
     "output_type": "display_data"
    }
   ],
   "source": [
    "sns.catplot(x=\"State/UTs\", y=\"Total Vaccination Doses\", kind=\"boxen\",\n",
    "            data=dfsort3,aspect=4)"
   ]
  },
  {
   "cell_type": "code",
   "execution_count": 65,
   "id": "ceda5a85",
   "metadata": {},
   "outputs": [
    {
     "data": {
      "text/plain": [
       "<seaborn.axisgrid.FacetGrid at 0x1e5eadebd00>"
      ]
     },
     "execution_count": 65,
     "metadata": {},
     "output_type": "execute_result"
    },
    {
     "data": {
      "image/png": "[encoded data removed]",
      "text/plain": [
       "<Figure size 720x360 with 1 Axes>"
      ]
     },
     "metadata": {
      "needs_background": "light"
     },
     "output_type": "display_data"
    }
   ],
   "source": [
    "sns.catplot(x=\"State/UTs\", y=\"Total Vaccination Doses\", kind=\"bar\",\n",
    "            data=dfsort3,aspect=2)"
   ]
  },
  {
   "cell_type": "code",
   "execution_count": 68,
   "id": "9c4feadb",
   "metadata": {},
   "outputs": [
    {
     "data": {
      "text/html": [
       "<div>\n",
       "<style scoped>\n",
       "    .dataframe tbody tr th:only-of-type {\n",
       "        vertical-align: middle;\n",
       "    }\n",
       "\n",
       "    .dataframe tbody tr th {\n",
       "        vertical-align: top;\n",
       "    }\n",
       "\n",
       "    .dataframe thead th {\n",
       "        text-align: right;\n",
       "    }\n",
       "</style>\n",
       "<table border=\"1\" class=\"dataframe\">\n",
       "  <thead>\n",
       "    <tr style=\"text-align: right;\">\n",
       "      <th></th>\n",
       "      <th>State/UTs</th>\n",
       "      <th>Dose 1</th>\n",
       "      <th>Dose 2</th>\n",
       "      <th>Total Vaccination Doses</th>\n",
       "      <th>Populations</th>\n",
       "      <th>Percentage Vaccinated</th>\n",
       "    </tr>\n",
       "  </thead>\n",
       "  <tbody>\n",
       "    <tr>\n",
       "      <th>20</th>\n",
       "      <td>Maharashtra</td>\n",
       "      <td>34789942</td>\n",
       "      <td>11968889</td>\n",
       "      <td>46758831</td>\n",
       "      <td>112374333.0</td>\n",
       "      <td>10.650910</td>\n",
       "    </tr>\n",
       "    <tr>\n",
       "      <th>35</th>\n",
       "      <td>West Bengal</td>\n",
       "      <td>23018390</td>\n",
       "      <td>9081172</td>\n",
       "      <td>32099562</td>\n",
       "      <td>NaN</td>\n",
       "      <td>NaN</td>\n",
       "    </tr>\n",
       "    <tr>\n",
       "      <th>10</th>\n",
       "      <td>Gujarat</td>\n",
       "      <td>27638343</td>\n",
       "      <td>8961874</td>\n",
       "      <td>36600217</td>\n",
       "      <td>60439692.0</td>\n",
       "      <td>14.827796</td>\n",
       "    </tr>\n",
       "    <tr>\n",
       "      <th>33</th>\n",
       "      <td>Uttar Pradesh</td>\n",
       "      <td>45211784</td>\n",
       "      <td>8396910</td>\n",
       "      <td>53608694</td>\n",
       "      <td>10086292.0</td>\n",
       "      <td>83.250713</td>\n",
       "    </tr>\n",
       "    <tr>\n",
       "      <th>28</th>\n",
       "      <td>Rajasthan</td>\n",
       "      <td>26798140</td>\n",
       "      <td>8286045</td>\n",
       "      <td>35084185</td>\n",
       "      <td>610577.0</td>\n",
       "      <td>1357.084364</td>\n",
       "    </tr>\n",
       "    <tr>\n",
       "      <th>15</th>\n",
       "      <td>Karnataka</td>\n",
       "      <td>25591995</td>\n",
       "      <td>7335688</td>\n",
       "      <td>32927683</td>\n",
       "      <td>61095297.0</td>\n",
       "      <td>12.006960</td>\n",
       "    </tr>\n",
       "    <tr>\n",
       "      <th>16</th>\n",
       "      <td>Kerala</td>\n",
       "      <td>15472773</td>\n",
       "      <td>6370804</td>\n",
       "      <td>21843577</td>\n",
       "      <td>33406061.0</td>\n",
       "      <td>19.070803</td>\n",
       "    </tr>\n",
       "  </tbody>\n",
       "</table>\n",
       "</div>"
      ],
      "text/plain": [
       "        State/UTs    Dose 1    Dose 2  Total Vaccination Doses  Populations  \\\n",
       "20    Maharashtra  34789942  11968889                 46758831  112374333.0   \n",
       "35    West Bengal  23018390   9081172                 32099562          NaN   \n",
       "10        Gujarat  27638343   8961874                 36600217   60439692.0   \n",
       "33  Uttar Pradesh  45211784   8396910                 53608694   10086292.0   \n",
       "28      Rajasthan  26798140   8286045                 35084185     610577.0   \n",
       "15      Karnataka  25591995   7335688                 32927683   61095297.0   \n",
       "16         Kerala  15472773   6370804                 21843577   33406061.0   \n",
       "\n",
       "    Percentage Vaccinated  \n",
       "20              10.650910  \n",
       "35                    NaN  \n",
       "10              14.827796  \n",
       "33              83.250713  \n",
       "28            1357.084364  \n",
       "15              12.006960  \n",
       "16              19.070803  "
      ]
     },
     "execution_count": 68,
     "metadata": {},
     "output_type": "execute_result"
    }
   ],
   "source": [
    "dfsort4=df4.iloc[0:8]\n",
    "df4.head(7)"
   ]
  },
  {
   "cell_type": "code",
   "execution_count": 69,
   "id": "ac9d8d48",
   "metadata": {},
   "outputs": [
    {
     "data": {
      "text/plain": [
       "<seaborn.axisgrid.FacetGrid at 0x1e5eacd7910>"
      ]
     },
     "execution_count": 69,
     "metadata": {},
     "output_type": "execute_result"
    },
    {
     "data": {
      "image/png": "[encoded data removed]",
      "text/plain": [
       "<Figure size 1440x360 with 1 Axes>"
      ]
     },
     "metadata": {
      "needs_background": "light"
     },
     "output_type": "display_data"
    }
   ],
   "source": [
    "sns.catplot(x=\"State/UTs\", y=\"Total Vaccination Doses\", kind=\"bar\",\n",
    "            data=dfsort4,aspect=4)"
   ]
  },
  {
   "cell_type": "code",
   "execution_count": 70,
   "id": "560a69e0",
   "metadata": {},
   "outputs": [
    {
     "data": {
      "text/html": [
       "<div>\n",
       "<style scoped>\n",
       "    .dataframe tbody tr th:only-of-type {\n",
       "        vertical-align: middle;\n",
       "    }\n",
       "\n",
       "    .dataframe tbody tr th {\n",
       "        vertical-align: top;\n",
       "    }\n",
       "\n",
       "    .dataframe thead th {\n",
       "        text-align: right;\n",
       "    }\n",
       "</style>\n",
       "<table border=\"1\" class=\"dataframe\">\n",
       "  <thead>\n",
       "    <tr style=\"text-align: right;\">\n",
       "      <th></th>\n",
       "      <th>State/UTs</th>\n",
       "      <th>Dose 1</th>\n",
       "      <th>Dose 2</th>\n",
       "      <th>Total Vaccination Doses</th>\n",
       "      <th>Populations</th>\n",
       "      <th>Percentage Vaccinated</th>\n",
       "    </tr>\n",
       "  </thead>\n",
       "  <tbody>\n",
       "    <tr>\n",
       "      <th>25</th>\n",
       "      <td>Odisha</td>\n",
       "      <td>13749535</td>\n",
       "      <td>4154065</td>\n",
       "      <td>17903600</td>\n",
       "      <td>1247953.0</td>\n",
       "      <td>332.870308</td>\n",
       "    </tr>\n",
       "    <tr>\n",
       "      <th>36</th>\n",
       "      <td>Miscellaneous</td>\n",
       "      <td>1899985</td>\n",
       "      <td>1548575</td>\n",
       "      <td>3448560</td>\n",
       "      <td>1097206.0</td>\n",
       "      <td>141.138036</td>\n",
       "    </tr>\n",
       "    <tr>\n",
       "      <th>31</th>\n",
       "      <td>Telangana</td>\n",
       "      <td>11597340</td>\n",
       "      <td>3897011</td>\n",
       "      <td>15494351</td>\n",
       "      <td>3673917.0</td>\n",
       "      <td>106.072375</td>\n",
       "    </tr>\n",
       "    <tr>\n",
       "      <th>33</th>\n",
       "      <td>Uttar Pradesh</td>\n",
       "      <td>45211784</td>\n",
       "      <td>8396910</td>\n",
       "      <td>53608694</td>\n",
       "      <td>10086292.0</td>\n",
       "      <td>83.250713</td>\n",
       "    </tr>\n",
       "    <tr>\n",
       "      <th>18</th>\n",
       "      <td>Lakshadweep</td>\n",
       "      <td>50962</td>\n",
       "      <td>16951</td>\n",
       "      <td>67913</td>\n",
       "      <td>64473.0</td>\n",
       "      <td>26.291626</td>\n",
       "    </tr>\n",
       "    <tr>\n",
       "      <th>17</th>\n",
       "      <td>Ladakh</td>\n",
       "      <td>188426</td>\n",
       "      <td>69959</td>\n",
       "      <td>258385</td>\n",
       "      <td>274289.0</td>\n",
       "      <td>25.505580</td>\n",
       "    </tr>\n",
       "    <tr>\n",
       "      <th>0</th>\n",
       "      <td>Andaman and Nicobar</td>\n",
       "      <td>215077</td>\n",
       "      <td>94272</td>\n",
       "      <td>309349</td>\n",
       "      <td>380581.0</td>\n",
       "      <td>24.770548</td>\n",
       "    </tr>\n",
       "  </tbody>\n",
       "</table>\n",
       "</div>"
      ],
      "text/plain": [
       "              State/UTs    Dose 1   Dose 2  Total Vaccination Doses  \\\n",
       "25               Odisha  13749535  4154065                 17903600   \n",
       "36        Miscellaneous   1899985  1548575                  3448560   \n",
       "31            Telangana  11597340  3897011                 15494351   \n",
       "33        Uttar Pradesh  45211784  8396910                 53608694   \n",
       "18          Lakshadweep     50962    16951                    67913   \n",
       "17               Ladakh    188426    69959                   258385   \n",
       "0   Andaman and Nicobar    215077    94272                   309349   \n",
       "\n",
       "    Populations  Percentage Vaccinated  \n",
       "25    1247953.0             332.870308  \n",
       "36    1097206.0             141.138036  \n",
       "31    3673917.0             106.072375  \n",
       "33   10086292.0              83.250713  \n",
       "18      64473.0              26.291626  \n",
       "17     274289.0              25.505580  \n",
       "0      380581.0              24.770548  "
      ]
     },
     "execution_count": 70,
     "metadata": {},
     "output_type": "execute_result"
    }
   ],
   "source": [
    "dfsort5=df5.iloc[1:8]\n",
    "dfsort5.head(7)"
   ]
  },
  {
   "cell_type": "code",
   "execution_count": 78,
   "id": "952e7eb2",
   "metadata": {},
   "outputs": [
    {
     "data": {
      "text/html": [
       "<div>\n",
       "<style scoped>\n",
       "    .dataframe tbody tr th:only-of-type {\n",
       "        vertical-align: middle;\n",
       "    }\n",
       "\n",
       "    .dataframe tbody tr th {\n",
       "        vertical-align: top;\n",
       "    }\n",
       "\n",
       "    .dataframe thead th {\n",
       "        text-align: right;\n",
       "    }\n",
       "</style>\n",
       "<table border=\"1\" class=\"dataframe\">\n",
       "  <thead>\n",
       "    <tr style=\"text-align: right;\">\n",
       "      <th></th>\n",
       "      <th>State/UTs</th>\n",
       "      <th>Dose 1</th>\n",
       "      <th>Dose 2</th>\n",
       "      <th>Total Vaccination Doses</th>\n",
       "      <th>Populations</th>\n",
       "      <th>Percentage Vaccinated</th>\n",
       "    </tr>\n",
       "  </thead>\n",
       "  <tbody>\n",
       "    <tr>\n",
       "      <th>29</th>\n",
       "      <td>Sikkim</td>\n",
       "      <td>497154</td>\n",
       "      <td>150743</td>\n",
       "      <td>647897</td>\n",
       "      <td>72147030.0</td>\n",
       "      <td>0.208939</td>\n",
       "    </tr>\n",
       "    <tr>\n",
       "      <th>24</th>\n",
       "      <td>Nagaland</td>\n",
       "      <td>630259</td>\n",
       "      <td>157175</td>\n",
       "      <td>787434</td>\n",
       "      <td>41974218.0</td>\n",
       "      <td>0.374456</td>\n",
       "    </tr>\n",
       "    <tr>\n",
       "      <th>32</th>\n",
       "      <td>Tripura</td>\n",
       "      <td>2406618</td>\n",
       "      <td>800317</td>\n",
       "      <td>3206935</td>\n",
       "      <td>199812341.0</td>\n",
       "      <td>0.400534</td>\n",
       "    </tr>\n",
       "    <tr>\n",
       "      <th>26</th>\n",
       "      <td>Puducherry</td>\n",
       "      <td>597505</td>\n",
       "      <td>150743</td>\n",
       "      <td>748248</td>\n",
       "      <td>27743338.0</td>\n",
       "      <td>0.543348</td>\n",
       "    </tr>\n",
       "    <tr>\n",
       "      <th>34</th>\n",
       "      <td>Uttarakhand</td>\n",
       "      <td>5042017</td>\n",
       "      <td>1583476</td>\n",
       "      <td>6625493</td>\n",
       "      <td>91276115.0</td>\n",
       "      <td>1.734820</td>\n",
       "    </tr>\n",
       "    <tr>\n",
       "      <th>27</th>\n",
       "      <td>Punjab</td>\n",
       "      <td>8110573</td>\n",
       "      <td>2232985</td>\n",
       "      <td>10343558</td>\n",
       "      <td>68548437.0</td>\n",
       "      <td>3.257529</td>\n",
       "    </tr>\n",
       "    <tr>\n",
       "      <th>4</th>\n",
       "      <td>Bihar</td>\n",
       "      <td>23190928</td>\n",
       "      <td>4447714</td>\n",
       "      <td>27638642</td>\n",
       "      <td>104099452.0</td>\n",
       "      <td>4.272562</td>\n",
       "    </tr>\n",
       "  </tbody>\n",
       "</table>\n",
       "</div>"
      ],
      "text/plain": [
       "      State/UTs    Dose 1   Dose 2  Total Vaccination Doses  Populations  \\\n",
       "29       Sikkim    497154   150743                   647897   72147030.0   \n",
       "24     Nagaland    630259   157175                   787434   41974218.0   \n",
       "32      Tripura   2406618   800317                  3206935  199812341.0   \n",
       "26   Puducherry    597505   150743                   748248   27743338.0   \n",
       "34  Uttarakhand   5042017  1583476                  6625493   91276115.0   \n",
       "27       Punjab   8110573  2232985                 10343558   68548437.0   \n",
       "4         Bihar  23190928  4447714                 27638642  104099452.0   \n",
       "\n",
       "    Percentage Vaccinated  \n",
       "29               0.208939  \n",
       "24               0.374456  \n",
       "32               0.400534  \n",
       "26               0.543348  \n",
       "34               1.734820  \n",
       "27               3.257529  \n",
       "4                4.272562  "
      ]
     },
     "execution_count": 78,
     "metadata": {},
     "output_type": "execute_result"
    }
   ],
   "source": [
    "dfsort6=df6.iloc[0:8]\n",
    "df6.head(7)"
   ]
  },
  {
   "cell_type": "code",
   "execution_count": 56,
   "id": "5e34adef",
   "metadata": {},
   "outputs": [
    {
     "data": {
      "text/plain": [
       "66.00241806980809"
      ]
     },
     "execution_count": 56,
     "metadata": {},
     "output_type": "execute_result"
    }
   ],
   "source": [
    "df[\"Percentage Vaccinated\"].mean()"
   ]
  },
  {
   "cell_type": "code",
   "execution_count": 61,
   "id": "e7d9b284",
   "metadata": {},
   "outputs": [
    {
     "data": {
      "text/plain": [
       "4.272562357004531"
      ]
     },
     "execution_count": 61,
     "metadata": {},
     "output_type": "execute_result"
    }
   ],
   "source": [
    "df[df[\"State/UTs\"]==\"Bihar\"][\"Percentage Vaccinated\"].mean()"
   ]
  },
  {
   "cell_type": "code",
   "execution_count": 62,
   "id": "fd6314bf",
   "metadata": {},
   "outputs": [
    {
     "data": {
      "text/plain": [
       "24.770548188164938"
      ]
     },
     "execution_count": 62,
     "metadata": {},
     "output_type": "execute_result"
    }
   ],
   "source": [
    "df[df[\"State/UTs\"]==\"Andaman and Nicobar\"][\"Percentage Vaccinated\"].mean()"
   ]
  },
  {
   "cell_type": "code",
   "execution_count": 67,
   "id": "da4cbfc3",
   "metadata": {
    "scrolled": true
   },
   "outputs": [
    {
     "data": {
      "text/html": [
       "<div>\n",
       "<style scoped>\n",
       "    .dataframe tbody tr th:only-of-type {\n",
       "        vertical-align: middle;\n",
       "    }\n",
       "\n",
       "    .dataframe tbody tr th {\n",
       "        vertical-align: top;\n",
       "    }\n",
       "\n",
       "    .dataframe thead th {\n",
       "        text-align: right;\n",
       "    }\n",
       "</style>\n",
       "<table border=\"1\" class=\"dataframe\">\n",
       "  <thead>\n",
       "    <tr style=\"text-align: right;\">\n",
       "      <th></th>\n",
       "      <th>State/UTs</th>\n",
       "      <th>Dose 1</th>\n",
       "      <th>Dose 2</th>\n",
       "      <th>Total Vaccination Doses</th>\n",
       "      <th>Populations</th>\n",
       "      <th>Percentage Vaccinated</th>\n",
       "    </tr>\n",
       "  </thead>\n",
       "  <tbody>\n",
       "    <tr>\n",
       "      <th>28</th>\n",
       "      <td>Rajasthan</td>\n",
       "      <td>26798140</td>\n",
       "      <td>8286045</td>\n",
       "      <td>35084185</td>\n",
       "      <td>610577.0</td>\n",
       "      <td>1357.084364</td>\n",
       "    </tr>\n",
       "    <tr>\n",
       "      <th>25</th>\n",
       "      <td>Odisha</td>\n",
       "      <td>13749535</td>\n",
       "      <td>4154065</td>\n",
       "      <td>17903600</td>\n",
       "      <td>1247953.0</td>\n",
       "      <td>332.870308</td>\n",
       "    </tr>\n",
       "    <tr>\n",
       "      <th>36</th>\n",
       "      <td>Miscellaneous</td>\n",
       "      <td>1899985</td>\n",
       "      <td>1548575</td>\n",
       "      <td>3448560</td>\n",
       "      <td>1097206.0</td>\n",
       "      <td>141.138036</td>\n",
       "    </tr>\n",
       "    <tr>\n",
       "      <th>31</th>\n",
       "      <td>Telangana</td>\n",
       "      <td>11597340</td>\n",
       "      <td>3897011</td>\n",
       "      <td>15494351</td>\n",
       "      <td>3673917.0</td>\n",
       "      <td>106.072375</td>\n",
       "    </tr>\n",
       "    <tr>\n",
       "      <th>33</th>\n",
       "      <td>Uttar Pradesh</td>\n",
       "      <td>45211784</td>\n",
       "      <td>8396910</td>\n",
       "      <td>53608694</td>\n",
       "      <td>10086292.0</td>\n",
       "      <td>83.250713</td>\n",
       "    </tr>\n",
       "    <tr>\n",
       "      <th>18</th>\n",
       "      <td>Lakshadweep</td>\n",
       "      <td>50962</td>\n",
       "      <td>16951</td>\n",
       "      <td>67913</td>\n",
       "      <td>64473.0</td>\n",
       "      <td>26.291626</td>\n",
       "    </tr>\n",
       "    <tr>\n",
       "      <th>17</th>\n",
       "      <td>Ladakh</td>\n",
       "      <td>188426</td>\n",
       "      <td>69959</td>\n",
       "      <td>258385</td>\n",
       "      <td>274289.0</td>\n",
       "      <td>25.505580</td>\n",
       "    </tr>\n",
       "  </tbody>\n",
       "</table>\n",
       "</div>"
      ],
      "text/plain": [
       "        State/UTs    Dose 1   Dose 2  Total Vaccination Doses  Populations  \\\n",
       "28      Rajasthan  26798140  8286045                 35084185     610577.0   \n",
       "25         Odisha  13749535  4154065                 17903600    1247953.0   \n",
       "36  Miscellaneous   1899985  1548575                  3448560    1097206.0   \n",
       "31      Telangana  11597340  3897011                 15494351    3673917.0   \n",
       "33  Uttar Pradesh  45211784  8396910                 53608694   10086292.0   \n",
       "18    Lakshadweep     50962    16951                    67913      64473.0   \n",
       "17         Ladakh    188426    69959                   258385     274289.0   \n",
       "\n",
       "    Percentage Vaccinated  \n",
       "28            1357.084364  \n",
       "25             332.870308  \n",
       "36             141.138036  \n",
       "31             106.072375  \n",
       "33              83.250713  \n",
       "18              26.291626  \n",
       "17              25.505580  "
      ]
     },
     "execution_count": 67,
     "metadata": {},
     "output_type": "execute_result"
    }
   ],
   "source": [
    "dfsort5=df5.iloc[0:8]\n",
    "df5.head(7)"
   ]
  },
  {
   "cell_type": "code",
   "execution_count": 60,
   "id": "3a655f9c",
   "metadata": {},
   "outputs": [
    {
     "data": {
      "text/html": [
       "<div>\n",
       "<style scoped>\n",
       "    .dataframe tbody tr th:only-of-type {\n",
       "        vertical-align: middle;\n",
       "    }\n",
       "\n",
       "    .dataframe tbody tr th {\n",
       "        vertical-align: top;\n",
       "    }\n",
       "\n",
       "    .dataframe thead th {\n",
       "        text-align: right;\n",
       "    }\n",
       "</style>\n",
       "<table border=\"1\" class=\"dataframe\">\n",
       "  <thead>\n",
       "    <tr style=\"text-align: right;\">\n",
       "      <th></th>\n",
       "      <th>State/UTs</th>\n",
       "      <th>Dose 1</th>\n",
       "      <th>Dose 2</th>\n",
       "      <th>Total Vaccination Doses</th>\n",
       "      <th>Populations</th>\n",
       "      <th>Percentage Vaccinated</th>\n",
       "    </tr>\n",
       "  </thead>\n",
       "  <tbody>\n",
       "    <tr>\n",
       "      <th>20</th>\n",
       "      <td>Maharashtra</td>\n",
       "      <td>34789942</td>\n",
       "      <td>11968889</td>\n",
       "      <td>46758831</td>\n",
       "      <td>112374333.0</td>\n",
       "      <td>10.650910</td>\n",
       "    </tr>\n",
       "    <tr>\n",
       "      <th>35</th>\n",
       "      <td>West Bengal</td>\n",
       "      <td>23018390</td>\n",
       "      <td>9081172</td>\n",
       "      <td>32099562</td>\n",
       "      <td>NaN</td>\n",
       "      <td>NaN</td>\n",
       "    </tr>\n",
       "    <tr>\n",
       "      <th>10</th>\n",
       "      <td>Gujarat</td>\n",
       "      <td>27638343</td>\n",
       "      <td>8961874</td>\n",
       "      <td>36600217</td>\n",
       "      <td>60439692.0</td>\n",
       "      <td>14.827796</td>\n",
       "    </tr>\n",
       "    <tr>\n",
       "      <th>33</th>\n",
       "      <td>Uttar Pradesh</td>\n",
       "      <td>45211784</td>\n",
       "      <td>8396910</td>\n",
       "      <td>53608694</td>\n",
       "      <td>10086292.0</td>\n",
       "      <td>83.250713</td>\n",
       "    </tr>\n",
       "    <tr>\n",
       "      <th>28</th>\n",
       "      <td>Rajasthan</td>\n",
       "      <td>26798140</td>\n",
       "      <td>8286045</td>\n",
       "      <td>35084185</td>\n",
       "      <td>610577.0</td>\n",
       "      <td>1357.084364</td>\n",
       "    </tr>\n",
       "    <tr>\n",
       "      <th>15</th>\n",
       "      <td>Karnataka</td>\n",
       "      <td>25591995</td>\n",
       "      <td>7335688</td>\n",
       "      <td>32927683</td>\n",
       "      <td>61095297.0</td>\n",
       "      <td>12.006960</td>\n",
       "    </tr>\n",
       "    <tr>\n",
       "      <th>16</th>\n",
       "      <td>Kerala</td>\n",
       "      <td>15472773</td>\n",
       "      <td>6370804</td>\n",
       "      <td>21843577</td>\n",
       "      <td>33406061.0</td>\n",
       "      <td>19.070803</td>\n",
       "    </tr>\n",
       "  </tbody>\n",
       "</table>\n",
       "</div>"
      ],
      "text/plain": [
       "        State/UTs    Dose 1    Dose 2  Total Vaccination Doses  Populations  \\\n",
       "20    Maharashtra  34789942  11968889                 46758831  112374333.0   \n",
       "35    West Bengal  23018390   9081172                 32099562          NaN   \n",
       "10        Gujarat  27638343   8961874                 36600217   60439692.0   \n",
       "33  Uttar Pradesh  45211784   8396910                 53608694   10086292.0   \n",
       "28      Rajasthan  26798140   8286045                 35084185     610577.0   \n",
       "15      Karnataka  25591995   7335688                 32927683   61095297.0   \n",
       "16         Kerala  15472773   6370804                 21843577   33406061.0   \n",
       "\n",
       "    Percentage Vaccinated  \n",
       "20              10.650910  \n",
       "35                    NaN  \n",
       "10              14.827796  \n",
       "33              83.250713  \n",
       "28            1357.084364  \n",
       "15              12.006960  \n",
       "16              19.070803  "
      ]
     },
     "execution_count": 60,
     "metadata": {},
     "output_type": "execute_result"
    }
   ],
   "source": [
    "dfsort4=df2.iloc[0:8]\n",
    "df4.head(7)"
   ]
  },
  {
   "cell_type": "markdown",
   "id": "a684bd98",
   "metadata": {},
   "source": [
    "# 2nd dose highest by any state"
   ]
  },
  {
   "cell_type": "code",
   "execution_count": 74,
   "id": "37e3b14a",
   "metadata": {},
   "outputs": [
    {
     "data": {
      "text/plain": [
       "<seaborn.axisgrid.FacetGrid at 0x1e5eb6a8f70>"
      ]
     },
     "execution_count": 74,
     "metadata": {},
     "output_type": "execute_result"
    },
    {
     "data": {
      "image/png": "[encoded data removed]",
      "text/plain": [
       "<Figure size 720x360 with 1 Axes>"
      ]
     },
     "metadata": {
      "needs_background": "light"
     },
     "output_type": "display_data"
    }
   ],
   "source": [
    "sns.catplot(x=\"State/UTs\", y=\"Percentage Vaccinated\", kind=\"bar\",\n",
    "            data=dfsort5,aspect=2)"
   ]
  },
  {
   "cell_type": "code",
   "execution_count": null,
   "id": "1504e27c",
   "metadata": {},
   "outputs": [],
   "source": []
  },
  {
   "cell_type": "code",
   "execution_count": null,
   "id": "380d03e2",
   "metadata": {},
   "outputs": [],
   "source": []
  }
 ],
 "metadata": {
  "kernelspec": {
   "display_name": "Python 3 (ipykernel)",
   "language": "python",
   "name": "python3"
  },
  "language_info": {
   "codemirror_mode": {
    "name": "ipython",
    "version": 3
   },
   "file_extension": ".py",
   "mimetype": "text/x-python",
   "name": "python",
   "nbconvert_exporter": "python",
   "pygments_lexer": "ipython3",
   "version": "3.9.6"
  }
 },
 "nbformat": 4,
 "nbformat_minor": 5
}
